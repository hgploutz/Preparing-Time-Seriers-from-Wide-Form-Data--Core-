{
 "cells": [
  {
   "cell_type": "markdown",
   "id": "21d61e53-4d59-4d73-947e-6c6d3b8877d2",
   "metadata": {},
   "source": [
    "# Preparing Time Series from Wide Form Data"
   ]
  },
  {
   "cell_type": "code",
   "execution_count": 70,
   "id": "a7448165-b061-4831-97da-d5935d424851",
   "metadata": {},
   "outputs": [],
   "source": [
    "#Full Name: Hannah Ploutz"
   ]
  },
  {
   "cell_type": "markdown",
   "id": "387d3e24-4d5b-4cf6-a6ac-5fc68f94ec4c",
   "metadata": {},
   "source": [
    "## Imports & Load Data"
   ]
  },
  {
   "cell_type": "code",
   "execution_count": 71,
   "id": "11b7c4ca-83f8-43c2-b069-4caa0a642817",
   "metadata": {},
   "outputs": [],
   "source": [
    "import pandas as pd\n",
    "import matplotlib.pyplot as plt\n",
    "from matplotlib.ticker import FuncFormatter\n",
    "import warnings\n",
    "warnings.simplefilter(action='ignore', category=FutureWarning)"
   ]
  },
  {
   "cell_type": "code",
   "execution_count": 72,
   "id": "1a33bd41-8274-47cb-a15d-05471c5f4380",
   "metadata": {},
   "outputs": [
    {
     "data": {
      "text/html": [
       "<div>\n",
       "<style scoped>\n",
       "    .dataframe tbody tr th:only-of-type {\n",
       "        vertical-align: middle;\n",
       "    }\n",
       "\n",
       "    .dataframe tbody tr th {\n",
       "        vertical-align: top;\n",
       "    }\n",
       "\n",
       "    .dataframe thead th {\n",
       "        text-align: right;\n",
       "    }\n",
       "</style>\n",
       "<table border=\"1\" class=\"dataframe\">\n",
       "  <thead>\n",
       "    <tr style=\"text-align: right;\">\n",
       "      <th></th>\n",
       "      <th>RegionID</th>\n",
       "      <th>SizeRank</th>\n",
       "      <th>RegionName</th>\n",
       "      <th>RegionType</th>\n",
       "      <th>StateName</th>\n",
       "      <th>State</th>\n",
       "      <th>Metro</th>\n",
       "      <th>CountyName</th>\n",
       "      <th>2000-01-31</th>\n",
       "      <th>2000-02-29</th>\n",
       "      <th>...</th>\n",
       "      <th>2021-12-31</th>\n",
       "      <th>2022-01-31</th>\n",
       "      <th>2022-02-28</th>\n",
       "      <th>2022-03-31</th>\n",
       "      <th>2022-04-30</th>\n",
       "      <th>2022-05-31</th>\n",
       "      <th>2022-06-30</th>\n",
       "      <th>2022-07-31</th>\n",
       "      <th>2022-08-31</th>\n",
       "      <th>2022-09-30</th>\n",
       "    </tr>\n",
       "  </thead>\n",
       "  <tbody>\n",
       "    <tr>\n",
       "      <th>0</th>\n",
       "      <td>6181</td>\n",
       "      <td>0</td>\n",
       "      <td>New York</td>\n",
       "      <td>city</td>\n",
       "      <td>NY</td>\n",
       "      <td>NY</td>\n",
       "      <td>New York-Newark-Jersey City, NY-NJ-PA</td>\n",
       "      <td>Queens County</td>\n",
       "      <td>253690.0</td>\n",
       "      <td>255517.0</td>\n",
       "      <td>...</td>\n",
       "      <td>741586.0</td>\n",
       "      <td>745686.0</td>\n",
       "      <td>750578.0</td>\n",
       "      <td>756734.0</td>\n",
       "      <td>762321.0</td>\n",
       "      <td>768797.0</td>\n",
       "      <td>773944.0</td>\n",
       "      <td>777692.0</td>\n",
       "      <td>779960.0</td>\n",
       "      <td>781622.0</td>\n",
       "    </tr>\n",
       "    <tr>\n",
       "      <th>1</th>\n",
       "      <td>12447</td>\n",
       "      <td>1</td>\n",
       "      <td>Los Angeles</td>\n",
       "      <td>city</td>\n",
       "      <td>CA</td>\n",
       "      <td>CA</td>\n",
       "      <td>Los Angeles-Long Beach-Anaheim, CA</td>\n",
       "      <td>Los Angeles County</td>\n",
       "      <td>234181.0</td>\n",
       "      <td>234401.0</td>\n",
       "      <td>...</td>\n",
       "      <td>924019.0</td>\n",
       "      <td>928991.0</td>\n",
       "      <td>937936.0</td>\n",
       "      <td>953874.0</td>\n",
       "      <td>973168.0</td>\n",
       "      <td>990391.0</td>\n",
       "      <td>992337.0</td>\n",
       "      <td>992630.0</td>\n",
       "      <td>978196.0</td>\n",
       "      <td>966595.0</td>\n",
       "    </tr>\n",
       "    <tr>\n",
       "      <th>2</th>\n",
       "      <td>39051</td>\n",
       "      <td>2</td>\n",
       "      <td>Houston</td>\n",
       "      <td>city</td>\n",
       "      <td>TX</td>\n",
       "      <td>TX</td>\n",
       "      <td>Houston-The Woodlands-Sugar Land, TX</td>\n",
       "      <td>Harris County</td>\n",
       "      <td>109068.0</td>\n",
       "      <td>109079.0</td>\n",
       "      <td>...</td>\n",
       "      <td>245783.0</td>\n",
       "      <td>248718.0</td>\n",
       "      <td>252080.0</td>\n",
       "      <td>256435.0</td>\n",
       "      <td>261101.0</td>\n",
       "      <td>265558.0</td>\n",
       "      <td>268901.0</td>\n",
       "      <td>271059.0</td>\n",
       "      <td>272400.0</td>\n",
       "      <td>272639.0</td>\n",
       "    </tr>\n",
       "    <tr>\n",
       "      <th>3</th>\n",
       "      <td>17426</td>\n",
       "      <td>3</td>\n",
       "      <td>Chicago</td>\n",
       "      <td>city</td>\n",
       "      <td>IL</td>\n",
       "      <td>IL</td>\n",
       "      <td>Chicago-Naperville-Elgin, IL-IN-WI</td>\n",
       "      <td>Cook County</td>\n",
       "      <td>166139.0</td>\n",
       "      <td>166536.0</td>\n",
       "      <td>...</td>\n",
       "      <td>302821.0</td>\n",
       "      <td>305104.0</td>\n",
       "      <td>306404.0</td>\n",
       "      <td>308303.0</td>\n",
       "      <td>309649.0</td>\n",
       "      <td>312487.0</td>\n",
       "      <td>314663.0</td>\n",
       "      <td>315910.0</td>\n",
       "      <td>315587.0</td>\n",
       "      <td>315429.0</td>\n",
       "    </tr>\n",
       "    <tr>\n",
       "      <th>4</th>\n",
       "      <td>6915</td>\n",
       "      <td>4</td>\n",
       "      <td>San Antonio</td>\n",
       "      <td>city</td>\n",
       "      <td>TX</td>\n",
       "      <td>TX</td>\n",
       "      <td>San Antonio-New Braunfels, TX</td>\n",
       "      <td>Bexar County</td>\n",
       "      <td>114794.0</td>\n",
       "      <td>114975.0</td>\n",
       "      <td>...</td>\n",
       "      <td>269323.0</td>\n",
       "      <td>274032.0</td>\n",
       "      <td>278464.0</td>\n",
       "      <td>284127.0</td>\n",
       "      <td>289739.0</td>\n",
       "      <td>294776.0</td>\n",
       "      <td>297727.0</td>\n",
       "      <td>298796.0</td>\n",
       "      <td>299124.0</td>\n",
       "      <td>298951.0</td>\n",
       "    </tr>\n",
       "  </tbody>\n",
       "</table>\n",
       "<p>5 rows × 281 columns</p>\n",
       "</div>"
      ],
      "text/plain": [
       "   RegionID  SizeRank   RegionName RegionType StateName State  \\\n",
       "0      6181         0     New York       city        NY    NY   \n",
       "1     12447         1  Los Angeles       city        CA    CA   \n",
       "2     39051         2      Houston       city        TX    TX   \n",
       "3     17426         3      Chicago       city        IL    IL   \n",
       "4      6915         4  San Antonio       city        TX    TX   \n",
       "\n",
       "                                   Metro          CountyName  2000-01-31  \\\n",
       "0  New York-Newark-Jersey City, NY-NJ-PA       Queens County    253690.0   \n",
       "1     Los Angeles-Long Beach-Anaheim, CA  Los Angeles County    234181.0   \n",
       "2   Houston-The Woodlands-Sugar Land, TX       Harris County    109068.0   \n",
       "3     Chicago-Naperville-Elgin, IL-IN-WI         Cook County    166139.0   \n",
       "4          San Antonio-New Braunfels, TX        Bexar County    114794.0   \n",
       "\n",
       "   2000-02-29  ...  2021-12-31  2022-01-31  2022-02-28  2022-03-31  \\\n",
       "0    255517.0  ...    741586.0    745686.0    750578.0    756734.0   \n",
       "1    234401.0  ...    924019.0    928991.0    937936.0    953874.0   \n",
       "2    109079.0  ...    245783.0    248718.0    252080.0    256435.0   \n",
       "3    166536.0  ...    302821.0    305104.0    306404.0    308303.0   \n",
       "4    114975.0  ...    269323.0    274032.0    278464.0    284127.0   \n",
       "\n",
       "   2022-04-30  2022-05-31  2022-06-30  2022-07-31  2022-08-31  2022-09-30  \n",
       "0    762321.0    768797.0    773944.0    777692.0    779960.0    781622.0  \n",
       "1    973168.0    990391.0    992337.0    992630.0    978196.0    966595.0  \n",
       "2    261101.0    265558.0    268901.0    271059.0    272400.0    272639.0  \n",
       "3    309649.0    312487.0    314663.0    315910.0    315587.0    315429.0  \n",
       "4    289739.0    294776.0    297727.0    298796.0    299124.0    298951.0  \n",
       "\n",
       "[5 rows x 281 columns]"
      ]
     },
     "execution_count": 72,
     "metadata": {},
     "output_type": "execute_result"
    }
   ],
   "source": [
    "df = pd.read_csv('Data/City_zhvi_uc_sfrcondo_tier_0.33_0.67_sm_sa_month.csv')\n",
    "df.head()"
   ]
  },
  {
   "cell_type": "markdown",
   "id": "087b66fe-407e-45d0-9c04-186d9cd4cf7e",
   "metadata": {},
   "source": [
    "## Part 1"
   ]
  },
  {
   "cell_type": "code",
   "execution_count": 73,
   "id": "7c8a1085-7118-423b-9a23-02cee807356f",
   "metadata": {},
   "outputs": [],
   "source": [
    "# Filter the 4 largest cities into a new dataframe\n",
    "df_4_cities = df[df['SizeRank'].isin([0, 1, 2, 3])]"
   ]
  },
  {
   "cell_type": "code",
   "execution_count": 74,
   "id": "8b6af6aa-fa76-4496-854a-984b678c87e1",
   "metadata": {},
   "outputs": [],
   "source": [
    "# Get a list of columns that are formatted like dates (YYYY-MM-DD)\n",
    "date_columns = [col for col in df.columns if \"-\" in col]\n",
    "\n",
    "# Melt the DataFrame\n",
    "df_melted = df_4_cities.melt(id_vars=[\"RegionName\", \"State\", \"SizeRank\"],\n",
    "                              value_vars=date_columns,\n",
    "                              var_name=\"Date\",\n",
    "                              value_name=\"HomeValue\")"
   ]
  },
  {
   "cell_type": "code",
   "execution_count": 75,
   "id": "4a0540f0-6b73-4e31-812c-283443d689c8",
   "metadata": {},
   "outputs": [
    {
     "name": "stdout",
     "output_type": "stream",
     "text": [
      "False\n"
     ]
    }
   ],
   "source": [
    "print('RegionID' in df_melted['Date'].unique())"
   ]
  },
  {
   "cell_type": "code",
   "execution_count": 76,
   "id": "f6c0b500-f56c-40b8-8674-c33538f9d020",
   "metadata": {},
   "outputs": [
    {
     "name": "stdout",
     "output_type": "stream",
     "text": [
      "<class 'pandas.core.frame.DataFrame'>\n",
      "RangeIndex: 1092 entries, 0 to 1091\n",
      "Data columns (total 5 columns):\n",
      " #   Column      Non-Null Count  Dtype  \n",
      "---  ------      --------------  -----  \n",
      " 0   RegionName  1092 non-null   object \n",
      " 1   State       1092 non-null   object \n",
      " 2   SizeRank    1092 non-null   int64  \n",
      " 3   Date        1092 non-null   object \n",
      " 4   HomeValue   1087 non-null   float64\n",
      "dtypes: float64(1), int64(1), object(3)\n",
      "memory usage: 42.8+ KB\n"
     ]
    }
   ],
   "source": [
    "df_melted.info()"
   ]
  },
  {
   "cell_type": "code",
   "execution_count": 77,
   "id": "17448f9a-7f0d-42c6-b132-c7e610d75bf9",
   "metadata": {},
   "outputs": [],
   "source": [
    "# Convert the melted dates into datetime datatype\n",
    "df_melted['Date'] = pd.to_datetime(df_melted['Date'])"
   ]
  },
  {
   "cell_type": "code",
   "execution_count": 78,
   "id": "dd545050-a932-4fb3-ba9c-eeaf2093618a",
   "metadata": {},
   "outputs": [],
   "source": [
    "# Make the datetime column the index\n",
    "df_melted.set_index('Date', inplace=True)\n",
    "\n",
    "# Resample the dataframe as monthly frequency, grouped by City\n",
    "df_monthly = df_melted.groupby(['RegionName', pd.Grouper(freq='M')]).mean()"
   ]
  },
  {
   "cell_type": "code",
   "execution_count": 79,
   "id": "5f8f6036-30b6-4e45-975f-1a5439bd5c8a",
   "metadata": {},
   "outputs": [
    {
     "data": {
      "text/html": [
       "<div>\n",
       "<style scoped>\n",
       "    .dataframe tbody tr th:only-of-type {\n",
       "        vertical-align: middle;\n",
       "    }\n",
       "\n",
       "    .dataframe tbody tr th {\n",
       "        vertical-align: top;\n",
       "    }\n",
       "\n",
       "    .dataframe thead th {\n",
       "        text-align: right;\n",
       "    }\n",
       "</style>\n",
       "<table border=\"1\" class=\"dataframe\">\n",
       "  <thead>\n",
       "    <tr style=\"text-align: right;\">\n",
       "      <th></th>\n",
       "      <th></th>\n",
       "      <th>SizeRank</th>\n",
       "      <th>HomeValue</th>\n",
       "    </tr>\n",
       "    <tr>\n",
       "      <th>RegionName</th>\n",
       "      <th>Date</th>\n",
       "      <th></th>\n",
       "      <th></th>\n",
       "    </tr>\n",
       "  </thead>\n",
       "  <tbody>\n",
       "    <tr>\n",
       "      <th rowspan=\"5\" valign=\"top\">Chicago</th>\n",
       "      <th>2000-01-31</th>\n",
       "      <td>3.0</td>\n",
       "      <td>166139.0</td>\n",
       "    </tr>\n",
       "    <tr>\n",
       "      <th>2000-02-29</th>\n",
       "      <td>3.0</td>\n",
       "      <td>166536.0</td>\n",
       "    </tr>\n",
       "    <tr>\n",
       "      <th>2000-03-31</th>\n",
       "      <td>3.0</td>\n",
       "      <td>167368.0</td>\n",
       "    </tr>\n",
       "    <tr>\n",
       "      <th>2000-04-30</th>\n",
       "      <td>3.0</td>\n",
       "      <td>168826.0</td>\n",
       "    </tr>\n",
       "    <tr>\n",
       "      <th>2000-05-31</th>\n",
       "      <td>3.0</td>\n",
       "      <td>170499.0</td>\n",
       "    </tr>\n",
       "  </tbody>\n",
       "</table>\n",
       "</div>"
      ],
      "text/plain": [
       "                       SizeRank  HomeValue\n",
       "RegionName Date                           \n",
       "Chicago    2000-01-31       3.0   166139.0\n",
       "           2000-02-29       3.0   166536.0\n",
       "           2000-03-31       3.0   167368.0\n",
       "           2000-04-30       3.0   168826.0\n",
       "           2000-05-31       3.0   170499.0"
      ]
     },
     "execution_count": 79,
     "metadata": {},
     "output_type": "execute_result"
    }
   ],
   "source": [
    "df_monthly.head()"
   ]
  },
  {
   "cell_type": "markdown",
   "id": "f086c37f-d385-4d2b-8a40-d5268d562c17",
   "metadata": {},
   "source": [
    "## Part 2"
   ]
  },
  {
   "cell_type": "code",
   "execution_count": 83,
   "id": "6335ef87-2acc-4a9c-beb8-919675633252",
   "metadata": {},
   "outputs": [
    {
     "data": {
      "image/png": "[encoded data removed]",
      "text/plain": [
       "<Figure size 640x480 with 1 Axes>"
      ]
     },
     "metadata": {},
     "output_type": "display_data"
    }
   ],
   "source": [
    "# Plot the home values for all 4 cities\n",
    "df_unstacked = df_monthly['HomeValue'].unstack(level=0)\n",
    "ax = df_unstacked.plot()\n",
    "\n",
    "# Divide by 1000 and format with 'K' at the end\n",
    "ax.yaxis.set_major_formatter(FuncFormatter(lambda x, p: f'{x/1000}K'))\n",
    "\n",
    "plt.title('Home Values for the 4 Largest Cities')\n",
    "plt.xlabel('Date')\n",
    "plt.ylabel('Home Value (in K$)')\n",
    "plt.show()\n"
   ]
  },
  {
   "cell_type": "code",
   "execution_count": 81,
   "id": "71e18a41-8b8e-402b-a3fd-e9c5d069885b",
   "metadata": {},
   "outputs": [
    {
     "name": "stdout",
     "output_type": "stream",
     "text": [
      "The city with the highest Typical Home Value at the end of 2008 is New York with a home value of $510309.0\n",
      "The city with the lowest Typical Home Value at the end of 2008 is Houston with a home value of $131283.0\n"
     ]
    }
   ],
   "source": [
    "# Answering question 1\n",
    "# Filter for end of 2008 (December)\n",
    "df_dec_2008 = df_unstacked.loc['2008-12-31']\n",
    "\n",
    "# Find city with highest and lowest home value at end of 2008\n",
    "highest_2008_city = df_dec_2008.idxmax()\n",
    "lowest_2008_city = df_dec_2008.idxmin()\n",
    "\n",
    "highest_2008_value = df_dec_2008.max()\n",
    "lowest_2008_value = df_dec_2008.min()\n",
    "\n",
    "print(f\"The city with the highest Typical Home Value at the end of 2008 is {highest_2008_city} with a home value of ${highest_2008_value}\")\n",
    "print(f\"The city with the lowest Typical Home Value at the end of 2008 is {lowest_2008_city} with a home value of ${lowest_2008_value}\")"
   ]
  },
  {
   "cell_type": "code",
   "execution_count": 82,
   "id": "99f5cce6-e10e-4c1f-8285-3eaa4f839c2f",
   "metadata": {},
   "outputs": [
    {
     "name": "stdout",
     "output_type": "stream",
     "text": [
      "Change in home values from November 2008 to December 2008:\n",
      "RegionName  Chicago  Houston  Los Angeles  New York\n",
      "Date                                               \n",
      "2008-12-31  -5753.0   -964.0     -12611.0   -4458.0\n"
     ]
    }
   ],
   "source": [
    "# Select rows for November and December 2008\n",
    "nov_dec_2008 = df_unstacked.loc['2008-11-30':'2008-12-31']\n",
    "\n",
    "# Calculate difference between December and November 2008\n",
    "diff_nov_dec_2008 = nov_dec_2008.diff().dropna()\n",
    "\n",
    "print(\"Change in home values from November 2008 to December 2008:\")\n",
    "print(diff_nov_dec_2008)"
   ]
  },
  {
   "cell_type": "markdown",
   "id": "b1fb192a-fc1f-4fc5-94e2-728160336d05",
   "metadata": {},
   "source": [
    "- You can see above that each Region had a decrease in their home values from Novemeber to December 2008"
   ]
  }
 ],
 "metadata": {
  "kernelspec": {
   "display_name": "Python (dojo-env)",
   "language": "python",
   "name": "dojo-env"
  },
  "language_info": {
   "codemirror_mode": {
    "name": "ipython",
    "version": 3
   },
   "file_extension": ".py",
   "mimetype": "text/x-python",
   "name": "python",
   "nbconvert_exporter": "python",
   "pygments_lexer": "ipython3",
   "version": "3.9.15"
  }
 },
 "nbformat": 4,
 "nbformat_minor": 5
}
